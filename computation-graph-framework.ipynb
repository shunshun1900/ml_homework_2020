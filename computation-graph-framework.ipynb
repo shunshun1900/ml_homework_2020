{
 "cells": [
  {
   "cell_type": "markdown",
   "metadata": {},
   "source": [
    "# A Minimalist Computation Graph Framework"
   ]
  },
  {
   "cell_type": "code",
   "execution_count": 4,
   "metadata": {},
   "outputs": [],
   "source": [
    "import numpy as np\n",
    "from IPython.display import Image"
   ]
  },
  {
   "cell_type": "markdown",
   "metadata": {},
   "source": [
    "https://github.com/davidrosenberg/mlcourse/blob/gh-pages/Notebooks/computation-graph/computation-graph-framework.ipynb"
   ]
  },
  {
   "cell_type": "markdown",
   "metadata": {},
   "source": [
    "# Value Nodes"
   ]
  },
  {
   "cell_type": "code",
   "execution_count": 2,
   "metadata": {},
   "outputs": [],
   "source": [
    "\n",
    "class ValueNode(object):\n",
    "    \"\"\"Computation graph node having no input but simply holding a value\"\"\"\n",
    "    def __init__(self, node_name):\n",
    "        self.node_name = node_name\n",
    "        self.out = None\n",
    "        self.d_out = None\n",
    "\n",
    "    def forward(self):\n",
    "        self.d_out = np.zeros(self.out.shape)\n",
    "        return self.out\n",
    "\n",
    "    def backward(self):\n",
    "        return self.d_out\n",
    "\n",
    "    def get_predecessors(self):\n",
    "        return []"
   ]
  },
  {
   "cell_type": "markdown",
   "metadata": {},
   "source": [
    "To give a ValueNode a particular output value, we directly set it. It should always be a numpy array. For example, for a scalar value we can set it as follows:"
   ]
  },
  {
   "cell_type": "code",
   "execution_count": 15,
   "metadata": {},
   "outputs": [
    {
     "output_type": "stream",
     "name": "stdout",
     "text": "1\n"
    }
   ],
   "source": [
    "x = ValueNode(\"x\")\n",
    "x.out = np.array(3)\n",
    "x.d_out = np.array(1)\n",
    "print(x.backward())"
   ]
  },
  {
   "cell_type": "markdown",
   "metadata": {},
   "source": [
    "# Square Node"
   ]
  },
  {
   "cell_type": "code",
   "execution_count": null,
   "metadata": {},
   "outputs": [],
   "source": [
    "class SquareNode(object):\n",
    "    \"\"\"Node for squaring a scalar\"\"\"\n",
    "    def __init__(self, x, node_name):\n",
    "        \"\"\" \n",
    "        Parameters:\n",
    "        x: a node producing a scalar as a numpy array\n",
    "        node_name: node's name (a string)\n",
    "        \"\"\"\n",
    "        self.node_name = node_name\n",
    "        self.out = None\n",
    "        self.d_out = None\n",
    "        self.x = x\n",
    "    def forward(self):\n",
    "        self.out = self.x.out**2\n",
    "        self.d_out = np.array(self.out.shape)\n",
    "        return self.out\n",
    "    def backward(self):\n",
    "        # Preconditions: self.d_out contains the partial derivatives of the graph output w.r.t. self.out\n",
    "        d_x = self.d_out*2*self.x.out\n",
    "        self.x.d_out += d_x\n",
    "    def get_predecessors(self):\n",
    "        \"\"\"Get list of node's predecessors\"\"\"\n",
    "        return [self.x]"
   ]
  },
  {
   "cell_type": "code",
   "execution_count": null,
   "metadata": {},
   "outputs": [],
   "source": [
    "x = ValueNode(\"x\")\n",
    "f = SquareNode(\"square_node\")\n",
    "# set input value\n",
    "x.out = np.array"
   ]
  }
 ],
 "metadata": {
  "language_info": {
   "codemirror_mode": {
    "name": "ipython",
    "version": 3
   },
   "file_extension": ".py",
   "mimetype": "text/x-python",
   "name": "python",
   "nbconvert_exporter": "python",
   "pygments_lexer": "ipython3",
   "version": "3.7.3-final"
  },
  "orig_nbformat": 2,
  "kernelspec": {
   "name": "python3",
   "display_name": "Python 3"
  }
 },
 "nbformat": 4,
 "nbformat_minor": 2
}