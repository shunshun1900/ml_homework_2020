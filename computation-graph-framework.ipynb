{
 "cells": [
  {
   "cell_type": "markdown",
   "metadata": {},
   "source": [
    "# A Minimalist Computation Graph Framework"
   ]
  },
  {
   "cell_type": "code",
   "execution_count": 14,
   "metadata": {},
   "outputs": [],
   "source": [
    "import numpy as np\n",
    "from IPython.display import Image"
   ]
  },
  {
   "cell_type": "markdown",
   "metadata": {},
   "source": [
    "https://github.com/davidrosenberg/mlcourse/blob/gh-pages/Notebooks/computation-graph/computation-graph-framework.ipynb"
   ]
  },
  {
   "cell_type": "markdown",
   "metadata": {},
   "source": [
    "# Value Nodes"
   ]
  },
  {
   "cell_type": "code",
   "execution_count": 15,
   "metadata": {},
   "outputs": [],
   "source": [
    "\n",
    "class ValueNode(object):\n",
    "    \"\"\"Computation graph node having no input but simply holding a value\"\"\"\n",
    "    def __init__(self, node_name):\n",
    "        self.node_name = node_name\n",
    "        self.out = None\n",
    "        self.d_out = None\n",
    "\n",
    "    def forward(self):\n",
    "        self.d_out = np.zeros(self.out.shape)\n",
    "        return self.out\n",
    "\n",
    "    def backward(self):\n",
    "        return self.d_out\n",
    "\n",
    "    def get_predecessors(self):\n",
    "        return []"
   ]
  },
  {
   "cell_type": "markdown",
   "metadata": {},
   "source": [
    "To give a ValueNode a particular output value, we directly set it. It should always be a numpy array. For example, for a scalar value we can set it as follows:"
   ]
  },
  {
   "cell_type": "code",
   "execution_count": 16,
   "metadata": {},
   "outputs": [
    {
     "output_type": "stream",
     "name": "stdout",
     "text": "1\n"
    }
   ],
   "source": [
    "x = ValueNode(\"x\")\n",
    "x.out = np.array(3)\n",
    "x.d_out = np.array(1)\n",
    "print(x.backward())"
   ]
  },
  {
   "cell_type": "markdown",
   "metadata": {},
   "source": [
    "## Square Node"
   ]
  },
  {
   "cell_type": "code",
   "execution_count": 17,
   "metadata": {},
   "outputs": [],
   "source": [
    "class SquareNode(object):\n",
    "    \"\"\"Node for squaring a scalar\"\"\"\n",
    "    def __init__(self, x, node_name):\n",
    "        \"\"\" \n",
    "        Parameters:\n",
    "        x: a node producing a scalar as a numpy array\n",
    "        node_name: node's name (a string)\n",
    "        \"\"\"\n",
    "        self.node_name = node_name\n",
    "        self.out = None\n",
    "        self.d_out = None\n",
    "        self.x = x\n",
    "    def forward(self):\n",
    "        self.out = self.x.out**2\n",
    "        self.d_out = np.zeros(self.out.shape)\n",
    "        return self.out\n",
    "    def backward(self):\n",
    "        # Preconditions: self.d_out contains the partial derivatives of the graph output w.r.t. self.out\n",
    "        d_x = self.d_out*2*self.x.out\n",
    "        self.x.d_out += d_x\n",
    "        return self.d_out\n",
    "\n",
    "    def get_predecessors(self):\n",
    "        \"\"\"Get list of node's predecessors\"\"\"\n",
    "        return [self.x]"
   ]
  },
  {
   "cell_type": "code",
   "execution_count": 18,
   "metadata": {},
   "outputs": [
    {
     "output_type": "execute_result",
     "data": {
      "text/plain": "49"
     },
     "metadata": {},
     "execution_count": 18
    }
   ],
   "source": [
    "x = ValueNode(\"x\")\n",
    "f = SquareNode(x, \"square_node\")\n",
    "# set input value\n",
    "x.out = np.array(7)\n",
    "# forward pass\n",
    "x.forward()\n",
    "f.forward()"
   ]
  },
  {
   "cell_type": "code",
   "execution_count": 19,
   "metadata": {},
   "outputs": [
    {
     "output_type": "execute_result",
     "data": {
      "text/plain": "array(14.)"
     },
     "metadata": {},
     "execution_count": 19
    }
   ],
   "source": [
    "f.d_out = np.array(1)\n",
    "f.backward()\n",
    "x.backward()"
   ]
  },
  {
   "cell_type": "markdown",
   "metadata": {},
   "source": [
    "## Gradient descent with a computation graph"
   ]
  },
  {
   "cell_type": "code",
   "execution_count": 20,
   "metadata": {},
   "outputs": [
    {
     "output_type": "stream",
     "name": "stdout",
     "text": "x= 3 J(x)= 9\nx= 1.2000000000000002 J(x)= 1.4400000000000004\nx= 0.4800000000000001 J(x)= 0.23040000000000008\nx= 0.19200000000000006 J(x)= 0.03686400000000002\nx= 0.07680000000000003 J(x)= 0.005898240000000005\nx= 0.030720000000000018 J(x)= 0.0009437184000000011\nx= 0.012288000000000007 J(x)= 0.00015099494400000018\nx= 0.004915200000000003 J(x)= 2.4159191040000033e-05\nx= 0.0019660800000000016 J(x)= 3.865470566400006e-06\nx= 0.0007864320000000008 J(x)= 6.184752906240012e-07\n"
    }
   ],
   "source": [
    "x = ValueNode(\"x\")\n",
    "f = SquareNode(x, \"square_node\")\n",
    "\n",
    "obj_vals = []\n",
    "x_vals = []\n",
    "num_steps = 10\n",
    "step_size = .3\n",
    "x.out = np.array(3)\n",
    "for step in range(num_steps):\n",
    "    x_vals.append(x.out)\n",
    "    x.forward()\n",
    "    J = f.forward()\n",
    "    print(\"x=\",x.out,\"J(x)=\",J)\n",
    "    obj_vals.append(J)\n",
    "    f.d_out = 1\n",
    "    f.backward()\n",
    "    x_grad = x.backward()\n",
    "    x.out = x.out - step_size*x_grad\n",
    "    "
   ]
  },
  {
   "cell_type": "markdown",
   "metadata": {},
   "source": [
    "## A Computation Graph with Shared Input"
   ]
  },
  {
   "cell_type": "code",
   "execution_count": 21,
   "metadata": {},
   "outputs": [],
   "source": [
    "class ExpNode(object):\n",
    "    \"\"\"Node for computing e^x for a scalar x\"\"\"\n",
    "    def __init__(self, x, node_name):\n",
    "        \"\"\" \n",
    "        Parameters:\n",
    "        x: a node producing a scalar\n",
    "        node_name: node's name (a string)\n",
    "        \"\"\"\n",
    "        self.node_name = node_name\n",
    "        self.out = None\n",
    "        self.d_out = None\n",
    "        self.x = x\n",
    "\n",
    "    def forward(self):\n",
    "        self.out = np.exp(self.x.out)\n",
    "        self.d_out = np.zeros(self.out.shape)      \n",
    "        return self.out\n",
    "\n",
    "    def backward(self):\n",
    "        # Preconditions: \n",
    "        #   self.out contains the output value of the node, namely e^(x.out)\n",
    "        #   self.d_out contains the partial derivatives of the graph output w.r.t. self.out\n",
    "        d_x = self.d_out*self.out\n",
    "        self.x.d_out += d_x \n",
    "        return self.d_out\n",
    "    \n",
    "    def get_predecessors(self):\n",
    "        return [self.x]"
   ]
  },
  {
   "cell_type": "code",
   "execution_count": 22,
   "metadata": {},
   "outputs": [],
   "source": [
    "class ProductNode(object):\n",
    "    \"\"\"Node for computing the product of two scalars\"\"\"\n",
    "    def __init__(self, x, y, node_name):\n",
    "        self.node_name = node_name\n",
    "        self.out = None\n",
    "        self.d_out = None\n",
    "        self.x = x # Store a reference to node providing input to this node\n",
    "        self.y = y\n",
    "\n",
    "    def forward(self):\n",
    "        self.out = self.x.out*self.y.out\n",
    "        self.d_out = np.zeros(self.out.shape)\n",
    "        return  self.out\n",
    "\n",
    "    def backward(self):\n",
    "        d_x = self.d_out*self.y.out\n",
    "        d_y = self.d_out*self.x.out\n",
    "        self.x.d_out += d_x\n",
    "        self.y.d_out += d_y\n",
    "        #print(d_x)\n",
    "        return self.d_out\n",
    "\n",
    "    def get_predecessors(self):\n",
    "        return [self.x, self.y]"
   ]
  },
  {
   "cell_type": "code",
   "execution_count": 23,
   "metadata": {},
   "outputs": [
    {
     "output_type": "stream",
     "name": "stdout",
     "text": "x =  7\nf(x) = x^2 =  49\ng(x) = e^x =  1096.6331584284585\nJ=h(f(x),g(x)) = x^2 e^x =  53735.024762994464\n"
    }
   ],
   "source": [
    "x = ValueNode(\"x\")\n",
    "f = SquareNode(x, \"square node\")\n",
    "g = ExpNode(x, \"exponentiation node\") \n",
    "h = ProductNode(f, g, \"product node\")\n",
    "\n",
    "x.out = np.array(7)\n",
    "x.forward()\n",
    "f.forward()\n",
    "g.forward()\n",
    "h.forward() \n",
    "print(\"x = \",x.out)\n",
    "print(\"f(x) = x^2 = \",f.out)\n",
    "print(\"g(x) = e^x = \",g.out)\n",
    "print(\"J=h(f(x),g(x)) = x^2 e^x = \",h.out)"
   ]
  },
  {
   "cell_type": "code",
   "execution_count": 24,
   "metadata": {},
   "outputs": [
    {
     "output_type": "stream",
     "name": "stdout",
     "text": "At x= 7  we have f(x)= 49 , g(x)= 1096.6331584284585 , h(x)= 53735.024762994464\nAt those values, we have dJ/d[f(x)]= 1096.6331584284585\n"
    }
   ],
   "source": [
    "h.d_out = np.array(1)\n",
    "h.backward()\n",
    "f_x = f.out\n",
    "g_x = g.out\n",
    "J = h.out\n",
    "dJdf = f.d_out\n",
    "print(\"At x=\",x.out,\" we have f(x)=\",f_x,\", g(x)=\",g.out,\", h(x)=\",J)\n",
    "print(\"At those values, we have dJ/d[f(x)]=\", dJdf)"
   ]
  },
  {
   "cell_type": "markdown",
   "metadata": {},
   "source": [
    "## checking gradient"
   ]
  },
  {
   "cell_type": "code",
   "execution_count": 25,
   "metadata": {},
   "outputs": [
    {
     "output_type": "stream",
     "name": "stdout",
     "text": "For delta= 8.533600952616852e-06 , J(f(x)+delta, g(x)) - J(f(x),g(x)) =  0.00935822977044154\nFirst order prediction of J(f(x)+delta, g(x)) - J(f(x),g(x)) =  0.009358229765436321\n"
    }
   ],
   "source": [
    "\n",
    "delta = np.random.randn()/100000  #choose a random perturbation (we can rerun this several times)\n",
    "J_first_order_change = np.dot(delta, dJdf) #predicted change using derivative\n",
    "f.out = f_x + delta # change f.out by delta\n",
    "h.forward() # compute J_new=h(f(x)+delta, g(x))\n",
    "J_new = h.out\n",
    "J_actual_change = J_new - J\n",
    "print(\"For delta=\",delta,\", J(f(x)+delta, g(x)) - J(f(x),g(x)) = \", J_new - J)\n",
    "print(\"First order prediction of J(f(x)+delta, g(x)) - J(f(x),g(x)) = \", J_first_order_change)"
   ]
  },
  {
   "cell_type": "markdown",
   "metadata": {},
   "source": [
    "## backpro"
   ]
  },
  {
   "cell_type": "code",
   "execution_count": 26,
   "metadata": {},
   "outputs": [
    {
     "output_type": "execute_result",
     "data": {
      "text/plain": "array(49.)"
     },
     "metadata": {},
     "execution_count": 26
    }
   ],
   "source": [
    "x.out = np.array(7) #Set the value of the input node\n",
    "# Forward pass -- call forward() on nodes in topological order (parents before children)\n",
    "x.forward()\n",
    "f.forward()  \n",
    "g.forward()\n",
    "h.forward()\n",
    "# Backward pass -- call backward() on nodes in reverse topological order (children before parents)\n",
    "h.d_out = np.array(1) #initialize backpropagation\n",
    "h.backward() \n",
    "f.backward()\n",
    "g.backward()"
   ]
  },
  {
   "cell_type": "markdown",
   "metadata": {},
   "source": [
    "## Automating the forward and backward passes"
   ]
  },
  {
   "cell_type": "code",
   "execution_count": 27,
   "metadata": {},
   "outputs": [],
   "source": [
    "def sort_topological(sink):\n",
    "    \"\"\"Returns a list of the sink node and all its ancestors in topologically sorted order.\n",
    "    Subgraph of these nodes must form a DAG.  understand the function suspend ! \"\"\"\n",
    "    L = []\n",
    "    T = set()\n",
    "    P = set()\n",
    "\n",
    "    def visit(node):\n",
    "        if node in P:\n",
    "            return\n",
    "        if node in T:\n",
    "            raise \"your graph is not a DAG!\"\n",
    "        T.add(node)\n",
    "        for predecessor in node.get_predecessors():\n",
    "            visit(predecessor)\n",
    "        P.add(node)\n",
    "        L.append(node)\n",
    "    visit(sink)\n",
    "    return L"
   ]
  },
  {
   "cell_type": "code",
   "execution_count": 28,
   "metadata": {},
   "outputs": [
    {
     "output_type": "stream",
     "name": "stdout",
     "text": "x :   <__main__.ValueNode object at 0x0000018A459D1550>\nsquare node :   <__main__.SquareNode object at 0x0000018A459D1240>\nexponentiation node :   <__main__.ExpNode object at 0x0000018A45624D30>\nproduct node :   <__main__.ProductNode object at 0x0000018A45624E80>\n"
    }
   ],
   "source": [
    "\n",
    "for node in sort_topological(h):\n",
    "    print(node.node_name,\":  \",node)"
   ]
  },
  {
   "cell_type": "code",
   "execution_count": 30,
   "metadata": {},
   "outputs": [],
   "source": [
    "def forward_graph(graph_output_node):\n",
    "    node_list = sort_topological(graph_output_node)\n",
    "    for node in node_list:\n",
    "        print(\"Running forward on node \",node.node_name)\n",
    "        out = node.forward()\n",
    "    return out"
   ]
  },
  {
   "cell_type": "code",
   "execution_count": 29,
   "metadata": {},
   "outputs": [],
   "source": [
    "\n",
    "def backward_graph(graph_output_node):\n",
    "    \"\"\"\n",
    "    Assumes that forward_graph has already been called on graph_output_node.\n",
    "    Sets d_out of each node to the appropriate derivative.\n",
    "    \"\"\" \n",
    "    nodes_list = sort_topological(graph_output_node)\n",
    "    nodes_list.reverse()\n",
    "        \n",
    "    graph_output_node.d_out = np.array(1) # Derivative of graph output w.r.t. itself is 1\n",
    "\n",
    "    for node in nodes_list:\n",
    "        print(\"Running backward on node \",node.node_name)\n",
    "        node.backward()"
   ]
  },
  {
   "cell_type": "code",
   "execution_count": 31,
   "metadata": {},
   "outputs": [
    {
     "output_type": "stream",
     "name": "stdout",
     "text": "Running forward on node  x\nRunning forward on node  square node\nRunning forward on node  exponentiation node\nRunning forward on node  product node\nJ(x)=x^2 e^x= 29.5562243957226  for x= 2.0\nRunning backward on node  product node\nRunning backward on node  exponentiation node\nRunning backward on node  square node\nRunning backward on node  x\nJ'(x)= 59.1124487914452  for x= 2.0\n"
    }
   ],
   "source": [
    "\n",
    "x.out = np.array(2.) # set input value\n",
    "out = forward_graph(h) # run forward pass for graph output node h\n",
    "print(\"J(x)=x^2 e^x=\",out,\" for x=\",x.out)\n",
    "backward_graph(h) # run backward pass\n",
    "print(\"J'(x)=\",x.d_out,\" for x=\",x.out)"
   ]
  }
 ],
 "metadata": {
  "language_info": {
   "codemirror_mode": {
    "name": "ipython",
    "version": 3
   },
   "file_extension": ".py",
   "mimetype": "text/x-python",
   "name": "python",
   "nbconvert_exporter": "python",
   "pygments_lexer": "ipython3",
   "version": "3.7.3-final"
  },
  "orig_nbformat": 2,
  "kernelspec": {
   "name": "python3",
   "display_name": "Python 3"
  }
 },
 "nbformat": 4,
 "nbformat_minor": 2
}