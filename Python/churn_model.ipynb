{
 "cells": [
  {
   "cell_type": "code",
   "execution_count": 1,
   "metadata": {},
   "outputs": [],
   "source": [
    "import warnings\n",
    "\n",
    "import pandas as pd\n",
    "\n",
    "import numpy as np\n",
    "\n",
    "from sklearn.preprocessing import StandardScaler\n",
    "\n",
    "from sklearn.neighbors import KNeighborsClassifier as KNN\n",
    "\n",
    "from sklearn.linear_model import LogisticRegression as LR\n",
    "\n",
    "from sklearn.ensemble import RandomForestClassifier as RF\n",
    "\n",
    "from sklearn.model_selection import KFold"
   ]
  },
  {
   "cell_type": "code",
   "execution_count": 2,
   "metadata": {},
   "outputs": [],
   "source": [
    "warnings.filterwarnings(\"ignore\", category=FutureWarning)"
   ]
  },
  {
   "cell_type": "code",
   "execution_count": 4,
   "metadata": {
    "collapsed": true
   },
   "outputs": [
    {
     "name": "stdout",
     "output_type": "stream",
     "text": [
      "  State  Account Length  Area Code     Phone Int'l Plan VMail Plan  \\\n",
      "0    KS             128        415  382-4657         no        yes   \n",
      "1    OH             107        415  371-7191         no        yes   \n",
      "2    NJ             137        415  358-1921         no         no   \n",
      "3    OH              84        408  375-9999        yes         no   \n",
      "4    OK              75        415  330-6626        yes         no   \n",
      "\n",
      "   VMail Message  Day Mins  Day Calls  Day Charge   ...    Eve Calls  \\\n",
      "0             25     265.1        110       45.07   ...           99   \n",
      "1             26     161.6        123       27.47   ...          103   \n",
      "2              0     243.4        114       41.38   ...          110   \n",
      "3              0     299.4         71       50.90   ...           88   \n",
      "4              0     166.7        113       28.34   ...          122   \n",
      "\n",
      "   Eve Charge  Night Mins  Night Calls  Night Charge  Intl Mins  Intl Calls  \\\n",
      "0       16.78       244.7           91         11.01       10.0           3   \n",
      "1       16.62       254.4          103         11.45       13.7           3   \n",
      "2       10.30       162.6          104          7.32       12.2           5   \n",
      "3        5.26       196.9           89          8.86        6.6           7   \n",
      "4       12.61       186.9          121          8.41       10.1           3   \n",
      "\n",
      "   Intl Charge  CustServ Calls  Churn?  \n",
      "0         2.70               1  False.  \n",
      "1         3.70               1  False.  \n",
      "2         3.29               0  False.  \n",
      "3         1.78               2  False.  \n",
      "4         2.73               3  False.  \n",
      "\n",
      "[5 rows x 21 columns]\n"
     ]
    }
   ],
   "source": [
    "#read files\n",
    "churn_df = pd.read_csv('churn.csv')\n",
    "print(churn_df[:5])"
   ]
  },
  {
   "cell_type": "code",
   "execution_count": 6,
   "metadata": {
    "collapsed": true
   },
   "outputs": [
    {
     "name": "stdout",
     "output_type": "stream",
     "text": [
      "   Account Length Int'l Plan VMail Plan  VMail Message  Day Mins  Day Calls  \\\n",
      "0             128         no        yes             25     265.1        110   \n",
      "1             107         no        yes             26     161.6        123   \n",
      "2             137         no         no              0     243.4        114   \n",
      "3              84        yes         no              0     299.4         71   \n",
      "4              75        yes         no              0     166.7        113   \n",
      "\n",
      "   Day Charge  Eve Mins  Eve Calls  Eve Charge  Night Mins  Night Calls  \\\n",
      "0       45.07     197.4         99       16.78       244.7           91   \n",
      "1       27.47     195.5        103       16.62       254.4          103   \n",
      "2       41.38     121.2        110       10.30       162.6          104   \n",
      "3       50.90      61.9         88        5.26       196.9           89   \n",
      "4       28.34     148.3        122       12.61       186.9          121   \n",
      "\n",
      "   Night Charge  Intl Mins  Intl Calls  Intl Charge  CustServ Calls  \n",
      "0         11.01       10.0           3         2.70               1  \n",
      "1         11.45       13.7           3         3.70               1  \n",
      "2          7.32       12.2           5         3.29               0  \n",
      "3          8.86        6.6           7         1.78               2  \n",
      "4          8.41       10.1           3         2.73               3  \n"
     ]
    }
   ],
   "source": [
    "#data cleaning\n",
    "to_drop = ['State', 'Area Code', 'Phone', 'Churn?']\n",
    "\n",
    "df = churn_df.drop(to_drop, axis=1)\n",
    "\n",
    "print(df[:5])"
   ]
  },
  {
   "cell_type": "code",
   "execution_count": 9,
   "metadata": {
    "collapsed": true
   },
   "outputs": [
    {
     "name": "stdout",
     "output_type": "stream",
     "text": [
      "[[128.     0.     0.    25.   265.1  110.    45.07 197.4   99.    16.78\n",
      "  244.7   91.    11.01  10.     3.     2.7    1.  ]\n",
      " [107.     0.     0.    26.   161.6  123.    27.47 195.5  103.    16.62\n",
      "  254.4  103.    11.45  13.7    3.     3.7    1.  ]\n",
      " [137.     0.     0.     0.   243.4  114.    41.38 121.2  110.    10.3\n",
      "  162.6  104.     7.32  12.2    5.     3.29   0.  ]\n",
      " [ 84.     0.     0.     0.   299.4   71.    50.9   61.9   88.     5.26\n",
      "  196.9   89.     8.86   6.6    7.     1.78   2.  ]\n",
      " [ 75.     0.     0.     0.   166.7  113.    28.34 148.3  122.    12.61\n",
      "  186.9  121.     8.41  10.1    3.     2.73   3.  ]]\n",
      "Index(['Account Length', 'Int'l Plan', 'VMail Plan', 'VMail Message',\n",
      "       'Day Mins', 'Day Calls', 'Day Charge', 'Eve Mins', 'Eve Calls',\n",
      "       'Eve Charge', 'Night Mins', 'Night Calls', 'Night Charge', 'Intl Mins',\n",
      "       'Intl Calls', 'Intl Charge', 'CustServ Calls'],\n",
      "      dtype='object')\n"
     ]
    }
   ],
   "source": [
    "label = churn_df['Churn?']\n",
    "\n",
    "y = np.where(label=='True.',1,0)\n",
    "\n",
    "yes_no_cols = [\"Int'l Plan\",\"VMail Plan\"]\n",
    "\n",
    "df[yes_no_cols] = df[yes_no_cols] == 'yes'\n",
    "\n",
    "features = df.columns\n",
    "\n",
    "X = df.values.astype(np.float)\n",
    "\n",
    "print(X[:5])\n",
    "print(features)"
   ]
  },
  {
   "cell_type": "code",
   "execution_count": 10,
   "metadata": {
    "collapsed": true
   },
   "outputs": [
    {
     "name": "stdout",
     "output_type": "stream",
     "text": [
      "[[ 0.67648946  0.          0.          1.23488274  1.56676695  0.47664315\n",
      "   1.56703625 -0.07060962 -0.05594035 -0.07042665  0.86674322 -0.46549436\n",
      "   0.86602851 -0.08500823 -0.60119509 -0.0856905  -0.42793202]\n",
      " [ 0.14906505  0.          0.          1.30794844 -0.33373776  1.12450284\n",
      "  -0.33401297 -0.10808036  0.14486653 -0.10754944  1.05857074  0.14782467\n",
      "   1.05938994  1.24048169 -0.60119509  1.2411686  -0.42793202]\n",
      " [ 0.9025285   0.          0.         -0.59175986  1.16830364  0.67598459\n",
      "   1.168464   -1.57338336  0.49627857 -1.57389963 -0.75686906  0.19893459\n",
      "  -0.75557074  0.70312091  0.21153386  0.69715637 -1.1882185 ]\n",
      " [-0.42859027  0.          0.         -0.59175986  2.19659605 -1.46693591\n",
      "   2.19675881 -2.74286476 -0.60815927 -2.7432675  -0.07855114 -0.5677142\n",
      "  -0.07880574 -1.30302599  1.02426282 -1.30640087  0.33235445]\n",
      " [-0.6546293   0.          0.         -0.59175986 -0.24008971  0.62614923\n",
      "  -0.24004065 -1.03893233  1.0986992  -1.03793936 -0.27631146  1.06780322\n",
      "  -0.27656174 -0.04918418 -0.60119509 -0.04588472  1.09264093]]\n"
     ]
    }
   ],
   "source": [
    "#z_score method\n",
    "scaler = StandardScaler()\n",
    "\n",
    "X = scaler.fit_transform(X)\n",
    "\n",
    "print(X[:5])"
   ]
  },
  {
   "cell_type": "code",
   "execution_count": 17,
   "metadata": {},
   "outputs": [],
   "source": [
    "# Training\n",
    "def train_cv(X, y, clf_class, **kwargs):\n",
    "    kf = KFold(n_splits=5, shuffle=True)\n",
    "    y_pred = y.copy()\n",
    "\n",
    "    for train_index, test_index in kf.split(X):\n",
    "        X_train, X_test = X[train_index], X[test_index]\n",
    "        y_train = y[train_index]\n",
    "        clf = clf_class(**kwargs)\n",
    "        clf.fit(X_train, y_train)\n",
    "        y_pred[test_index] = clf.predict(X_test)\n",
    "        return y_pred\n",
    "\n",
    "def accuracy(y_ture, y_pred):\n",
    "\n",
    "    return np.mean(y_ture==y_pred)"
   ]
  },
  {
   "cell_type": "code",
   "execution_count": 18,
   "metadata": {},
   "outputs": [
    {
     "name": "stdout",
     "output_type": "stream",
     "text": [
      "logistic regression:\n",
      "0.972\n",
      "Random Forest:\n",
      "0.983\n",
      "k-nearst-neighbors:\n",
      "0.980\n"
     ]
    }
   ],
   "source": [
    "print(\"logistic regression:\")\n",
    "print(\"%.3f\"% accuracy(y,train_cv(X, y, LR)))  \n",
    "print(\"Random Forest:\")\n",
    "print(\"%.3f\"% accuracy(y,train_cv(X, y, RF))) \n",
    "print(\"k-nearst-neighbors:\")\n",
    "print(\"%.3f\"% accuracy(y,train_cv(X, y, KNN))) "
   ]
  }
 ],
 "metadata": {
  "kernelspec": {
   "display_name": "Python 3",
   "language": "python",
   "name": "python3"
  },
  "language_info": {
   "codemirror_mode": {
    "name": "ipython",
    "version": 3
   },
   "file_extension": ".py",
   "mimetype": "text/x-python",
   "name": "python",
   "nbconvert_exporter": "python",
   "pygments_lexer": "ipython3",
   "version": "3.6.5"
  }
 },
 "nbformat": 4,
 "nbformat_minor": 2
}
