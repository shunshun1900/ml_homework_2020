{
 "cells": [
  {
   "cell_type": "code",
   "execution_count": 1,
   "metadata": {},
   "outputs": [],
   "source": [
    "import warnings\n",
    "\n",
    "import pandas as pd\n",
    "\n",
    "import numpy as np\n",
    "\n",
    "from sklearn.preprocessing import StandardScaler\n",
    "\n",
    "from sklearn.neighbors import KNeighborsClassifier as KNN\n",
    "\n",
    "from sklearn.linear_model import LogisticRegression as LR\n",
    "\n",
    "from sklearn.ensemble import RandomForestClassifier as RF\n",
    "\n",
    "from sklearn.model_selection import KFold"
   ]
  },
  {
   "cell_type": "code",
   "execution_count": null,
   "metadata": {},
   "outputs": [],
   "source": [
    "warnings.filterwarnings(\"ignore\", category=FutureWarning)"
   ]
  },
  {
   "cell_type": "code",
   "execution_count": null,
   "metadata": {},
   "outputs": [],
   "source": [
    "#read files\n",
    "churn_df = pd.read_csv('churn.csv')"
   ]
  },
  {
   "cell_type": "code",
   "execution_count": null,
   "metadata": {},
   "outputs": [],
   "source": [
    "#data cleaning\n",
    "to_drop = ['State', 'Area Code', 'Phone', 'Churn?']\n",
    "\n",
    "df = churn_df.drop(to_drop, axis=1)\n",
    "\n",
    "label = churn_df['Churn?']\n",
    "\n",
    "y = np.where(label=='True.',1,0)\n",
    "\n",
    "yes_no_cols = [\"Int'l Plan\",\"VMail Plan\"]\n",
    "\n",
    "df[yes_no_cols] = df[yes_no_cols] == 'yes'\n",
    "\n",
    "features = df.columns\n",
    "\n",
    "X = df.values.astype(np.float)"
   ]
  },
  {
   "cell_type": "code",
   "execution_count": null,
   "metadata": {},
   "outputs": [],
   "source": [
    "#z_score method\n",
    "scaler = StandardScaler()\n",
    "\n",
    "X = scaler.fit_transform(X)"
   ]
  },
  {
   "cell_type": "code",
   "execution_count": null,
   "metadata": {},
   "outputs": [],
   "source": [
    "# Training\n",
    "def train_cv = (X, y, clf_class, **kwargs):\n",
    "\n",
    "    kf = KFold(n_splits=5, shuffle=True)\n",
    "\n",
    "    y_pred = y.copy()\n",
    "\n",
    "    for train_index, test_index in kf.split(X)\n",
    "        X_train, X_test = X[train_index], X[test_index]\n",
    "        y_train = y[train_index]\n",
    "        clf = clf_class(**kwargs)\n",
    "        clf.fit(X_train, y_train)\n",
    "        y_pred[test_index] = clf.pred(X_test)\n",
    "        return y_pred\n",
    "\n",
    "def accuracy(y_ture, y_pred):\n",
    "\n",
    "    return np.mean(y_ture==y_pred)"
   ]
  },
  {
   "cell_type": "code",
   "execution_count": null,
   "metadata": {},
   "outputs": [],
   "source": [
    "print(\"logistic regression:\")\n",
    "print(\"%.3f\"% accuracy(y,train_cv(X, y, LR)))  \n",
    "print(\"Random Forest:\")\n",
    "print(\"%.3f\"% accuracy(y,train_cv(X, y, RF))) \n",
    "print(\"k-nearst-neighbors:\")\n",
    "print(\"%.3f\"% accuracy(y,train_cv(X, y, KNN))) "
   ]
  }
 ],
 "metadata": {
  "kernelspec": {
   "display_name": "Python 3",
   "language": "python",
   "name": "python3"
  },
  "language_info": {
   "codemirror_mode": {
    "name": "ipython",
    "version": 3
   },
   "file_extension": ".py",
   "mimetype": "text/x-python",
   "name": "python",
   "nbconvert_exporter": "python",
   "pygments_lexer": "ipython3",
   "version": "3.6.5"
  }
 },
 "nbformat": 4,
 "nbformat_minor": 2
}
